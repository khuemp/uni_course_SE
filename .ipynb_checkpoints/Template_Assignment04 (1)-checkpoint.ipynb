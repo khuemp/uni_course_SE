{
 "cells": [
  {
   "cell_type": "markdown",
   "metadata": {},
   "source": [
    "# This is the python template for Assignment 04.  \n",
    "- You must use this template.  \n",
    "- You must not change any signatures of the methods, only edit the sections indicated with \"Write your code here.\"  \n",
    "- The return of every function has to be in the right format, otherwise this is a desk reject.  \n",
    "- Plagiarism leads to failing the assignment!  \n",
    "- We will terminate the script after 10 min, try to use efficient algorithms."
   ]
  },
  {
   "cell_type": "code",
   "execution_count": null,
   "metadata": {},
   "outputs": [],
   "source": [
    "import pandas as pd"
   ]
  },
  {
   "cell_type": "code",
   "execution_count": null,
   "metadata": {},
   "outputs": [],
   "source": [
    "def get_name():\n",
    "    # TODO: Write your code here. And change the return.\n",
    "    return \"Your Name\"\n",
    "def get_matriculationnumber():\n",
    "    # TODO: Write your code here. And change the return.\n",
    "    return 123456"
   ]
  },
  {
   "cell_type": "markdown",
   "metadata": {},
   "source": [
    "## Useful information:\n",
    "\n",
    "The structure of a CART is a dict. Use the same names as shown in the example, using other names makes your format invalid and leads to a desk reject."
   ]
  },
  {
   "cell_type": "code",
   "execution_count": null,
   "metadata": {},
   "outputs": [],
   "source": [
    "cart = { \"name\":\"X\", \"mean\":456, \"split_by_feature\": \"aes\", \"error_of_split\": 0.0,\n",
    "        \"successor_left\": { \"name\":\"XL\", \"mean\":1234, \"split_by_feature\": None, \"error_of_split\":None,\n",
    "                           \"successor_left\":None,\n",
    "                           \"successor_right\":None\n",
    "                          },\n",
    "        \"successor_right\":{ \"name\":\"XR\", \"mean\":258, \"split_by_feature\": None,\"error_of_split\":None,\n",
    "                           \"successor_left\":None,\n",
    "                           \"successor_right\":None\n",
    "                          }\n",
    "       }"
   ]
  },
  {
   "cell_type": "markdown",
   "metadata": {},
   "source": [
    "The names of the features must be used as defined in this list, using other names makes your format invalid and leads to a desk reject."
   ]
  },
  {
   "cell_type": "code",
   "execution_count": null,
   "metadata": {},
   "outputs": [],
   "source": [
    "features = [\"secompress\", \"encryption\", \"aes\", \"blowfish\", \"algorithm\", \"rar\", \"zip\", \"signature\",\n",
    "            \"timestamp\", \"segmentation\", \"onehundredmb\", \"onegb\"]"
   ]
  },
  {
   "cell_type": "markdown",
   "metadata": {},
   "source": [
    "# Task 1: Create a CART"
   ]
  },
  {
   "cell_type": "code",
   "execution_count": null,
   "metadata": {},
   "outputs": [],
   "source": [
    "# Write your helper functions here, if needed"
   ]
  },
  {
   "cell_type": "code",
   "execution_count": null,
   "metadata": {},
   "outputs": [],
   "source": [
    "def get_cart(sample_set_csv):\n",
    "    # The sample_set_csv is a file path to a csv data, this can be imported into a dataframe\n",
    "    df = pd.read_csv(sample_set_csv)\n",
    "    # TODO: Write your code here. And change the return.\n",
    "    return { \"name\":\"X\", \"mean\":1234, \"split_by_feature\": \"rar\", \"error_of_split\":42,\n",
    "            \"successor_left\":None,\"successor_right\":None}"
   ]
  },
  {
   "cell_type": "markdown",
   "metadata": {},
   "source": [
    "# Task 2a: Highest influencing feature"
   ]
  },
  {
   "cell_type": "code",
   "execution_count": null,
   "metadata": {},
   "outputs": [],
   "source": [
    "# Write your helper functions here, if needed"
   ]
  },
  {
   "cell_type": "code",
   "execution_count": null,
   "metadata": {},
   "outputs": [],
   "source": [
    "def get_highest_influence_feature(cart):\n",
    "    # TODO: Write your code here. And change the return.\n",
    "    return \"secompress\""
   ]
  },
  {
   "cell_type": "markdown",
   "metadata": {},
   "source": [
    "# Task 2b: Calculate the error rate"
   ]
  },
  {
   "cell_type": "code",
   "execution_count": null,
   "metadata": {},
   "outputs": [],
   "source": [
    "# Write your helper functions here, if needed"
   ]
  },
  {
   "cell_type": "code",
   "execution_count": null,
   "metadata": {},
   "outputs": [],
   "source": [
    "def get_error_rate(cart, sample_set_csv):\n",
    "    # The sample_set_csv is a file path to a csv data, this can be imported into a dataframe\n",
    "    df = pd.read_csv(sample_set_csv)\n",
    "    # TODO: Write your code here. And change the return.\n",
    "    return 42"
   ]
  },
  {
   "cell_type": "markdown",
   "metadata": {},
   "source": [
    "# Task 2c: Generate optimal configuration"
   ]
  },
  {
   "cell_type": "code",
   "execution_count": null,
   "metadata": {},
   "outputs": [],
   "source": [
    "# Write your helper functions here, if needed"
   ]
  },
  {
   "cell_type": "code",
   "execution_count": null,
   "metadata": {},
   "outputs": [],
   "source": [
    "def get_optimal_configuration(cart, partial_configuration):\n",
    "    # TODO: Write your code here. And change the return.\n",
    "    return {\"rar\", \"timestamp\"}"
   ]
  },
  {
   "cell_type": "markdown",
   "metadata": {},
   "source": [
    "# Tests:  \n",
    "In the following cells, we provide you some test cases (but not all possible test cases!)"
   ]
  },
  {
   "cell_type": "code",
   "execution_count": null,
   "metadata": {},
   "outputs": [],
   "source": [
    "# Task 1\n",
    "\n",
    "test_cart = {'name': 'X', 'mean': 763.2, 'split_by_feature': 'segmentation', 'error_of_split': 6.0, \n",
    "             'successor_left': \n",
    "                 {'name': 'XL', 'mean': 772.0, 'split_by_feature': 'onegb', 'error_of_split': 0.0, \n",
    "                  'successor_left': \n",
    "                      {'name': 'XLL', 'mean': 770.0, 'split_by_feature': None, 'error_of_split': None, \n",
    "                       'successor_left': None, \n",
    "                       'successor_right': None\n",
    "                      }, \n",
    "                  'successor_right': \n",
    "                      {'name': 'XLR', 'mean': 773.0, 'split_by_feature': None, 'error_of_split': None, \n",
    "                       'successor_left': None, \n",
    "                       'successor_right': None\n",
    "                      }\n",
    "                 }, \n",
    "             'successor_right': \n",
    "                 {'name': 'XR', 'mean': 750.0, 'split_by_feature': None, 'error_of_split': None, \n",
    "                  'successor_left': None, \n",
    "                  'successor_right': None}\n",
    "            }\n",
    "\n",
    "\n",
    "if get_cart(\"Performance_01.csv\") == test_cart:\n",
    "    print(\"passed\")\n",
    "else:\n",
    "    print(\"failed\")"
   ]
  },
  {
   "cell_type": "code",
   "execution_count": null,
   "metadata": {},
   "outputs": [],
   "source": [
    "# Task 2b\n",
    "if get_error_rate(test_cart, \"Performance_02b.csv\") == 5:\n",
    "    print(\"passed\")\n",
    "else:\n",
    "    print(\"failed\")"
   ]
  },
  {
   "cell_type": "code",
   "execution_count": null,
   "metadata": {},
   "outputs": [],
   "source": [
    "# Task 2c\n",
    "test_cart_v2 = {'name': 'X', 'mean': 763.2, 'split_by_feature': 'zip', 'error_of_split': 0.0, \n",
    "                 'successor_left': {'name': 'XL', 'mean': 772.0, 'split_by_feature': None, 'error_of_split': None, \n",
    "                                    'successor_left': None, \n",
    "                                    'successor_right': None}, \n",
    "                 'successor_right': {'name': 'XR', 'mean': 750.0, 'split_by_feature': None, 'error_of_split': None, \n",
    "                                     'successor_left': None, \n",
    "                                     'successor_right': None}\n",
    "                }\n",
    "\n",
    "optimal_config = get_optimal_configuration(test_cart_v2, {\"secompress\", \"encryption\", \"aes\", \"algorithm\", \"signature\",\n",
    "                                                        \"timestamp\", \"segmentation\", \"onehundredmb\"})\n",
    "reference = {'aes', 'algorithm', 'encryption', 'onehundredmb', 'rar', 'secompress', 'segmentation', 'signature',\n",
    "            'timestamp'}\n",
    "\n",
    "if optimal_config == reference:\n",
    "    print(\"passed\")\n",
    "else:\n",
    "    print(\"failed\")"
   ]
  },
  {
   "cell_type": "code",
   "execution_count": null,
   "metadata": {},
   "outputs": [],
   "source": []
  }
 ],
 "metadata": {
  "kernelspec": {
   "display_name": "Python 3 (ipykernel)",
   "language": "python",
   "name": "python3"
  },
  "language_info": {
   "codemirror_mode": {
    "name": "ipython",
    "version": 3
   },
   "file_extension": ".py",
   "mimetype": "text/x-python",
   "name": "python",
   "nbconvert_exporter": "python",
   "pygments_lexer": "ipython3",
   "version": "3.9.7"
  }
 },
 "nbformat": 4,
 "nbformat_minor": 4
}
